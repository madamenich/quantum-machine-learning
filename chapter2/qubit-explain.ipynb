{
 "cells": [
  {
   "cell_type": "code",
   "execution_count": 1,
   "metadata": {},
   "outputs": [],
   "source": [
    "import qiskit"
   ]
  },
  {
   "cell_type": "code",
   "execution_count": 2,
   "metadata": {},
   "outputs": [
    {
     "data": {
      "text/plain": [
       "<qiskit.circuit.instructionset.InstructionSet at 0x7f8919c203d0>"
      ]
     },
     "execution_count": 2,
     "metadata": {},
     "output_type": "execute_result"
    }
   ],
   "source": [
    "from qiskit import QuantumCircuit\n",
    "\n",
    "\n",
    "#Create a first quantum with one qubit\n",
    "\n",
    "qc = QuantumCircuit(1)\n",
    "\n",
    "#Initial state as |1>\n",
    "\n",
    "initial_state = [0,1]\n",
    "\n",
    "# Apply initialization operation to the qubit at position 0\n",
    "qc.initialize(initial_state,0)\n"
   ]
  },
  {
   "cell_type": "code",
   "execution_count": null,
   "metadata": {},
   "outputs": [],
   "source": []
  },
  {
   "cell_type": "code",
   "execution_count": 3,
   "metadata": {},
   "outputs": [
    {
     "name": "stdout",
     "output_type": "stream",
     "text": [
      "aer_simulator\n",
      "aer_simulator_statevector\n",
      "aer_simulator_density_matrix\n",
      "aer_simulator_stabilizer\n",
      "aer_simulator_matrix_product_state\n",
      "aer_simulator_extended_stabilizer\n",
      "aer_simulator_unitary\n",
      "aer_simulator_superop\n",
      "qasm_simulator\n",
      "statevector_simulator\n",
      "unitary_simulator\n",
      "pulse_simulator\n"
     ]
    }
   ],
   "source": [
    "from qiskit import execute, Aer\n",
    "\n",
    "#show all the backend\n",
    "for back in Aer.backends():\n",
    "    print(back.name())\n",
    "\n",
    "#define the backend\n",
    "# backend = Aer.get_backend(qc)"
   ]
  }
 ],
 "metadata": {
  "kernelspec": {
   "display_name": "base",
   "language": "python",
   "name": "python3"
  },
  "language_info": {
   "codemirror_mode": {
    "name": "ipython",
    "version": 3
   },
   "file_extension": ".py",
   "mimetype": "text/x-python",
   "name": "python",
   "nbconvert_exporter": "python",
   "pygments_lexer": "ipython3",
   "version": "3.9.13"
  },
  "orig_nbformat": 4,
  "vscode": {
   "interpreter": {
    "hash": "7922e0321be9ad2dfa2519be05f6d98169c3fb308fd1fe67a6e71e2e53f479b7"
   }
  }
 },
 "nbformat": 4,
 "nbformat_minor": 2
}
